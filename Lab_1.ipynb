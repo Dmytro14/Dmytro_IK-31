{
  "nbformat": 4,
  "nbformat_minor": 0,
  "metadata": {
    "colab": {
      "name": "Lab_1.ipynb",
      "provenance": [],
      "authorship_tag": "ABX9TyOF26U5l4MZ4ZFlbb4KgFI0",
      "include_colab_link": true
    },
    "kernelspec": {
      "name": "python3",
      "display_name": "Python 3"
    },
    "language_info": {
      "name": "python"
    }
  },
  "cells": [
    {
      "cell_type": "markdown",
      "metadata": {
        "id": "view-in-github",
        "colab_type": "text"
      },
      "source": [
        "<a href=\"https://colab.research.google.com/github/Dmytro14/Dmytro_IK-31/blob/main/Lab_1.ipynb\" target=\"_parent\"><img src=\"https://colab.research.google.com/assets/colab-badge.svg\" alt=\"Open In Colab\"/></a>"
      ]
    },
    {
      "cell_type": "code",
      "execution_count": 17,
      "metadata": {
        "colab": {
          "base_uri": "https://localhost:8080/"
        },
        "id": "QnWQcI9N8lag",
        "outputId": "a42a3ad6-63e6-449e-81fb-26e2f3c11c91"
      },
      "outputs": [
        {
          "output_type": "stream",
          "name": "stdout",
          "text": [
            "HELLo World!\n",
            "Please, enter your name: Dima\n",
            "Your name has  Dima  letters.  4 ! =  24\n",
            "Please, enter your birth date in format (DD.MM.YYYY):14.11.2001\n",
            "Today is  21.02.22 , you are  20  year ( 7404  days) old.\n"
          ]
        }
      ],
      "source": [
        "from dateutil import parser\n",
        "import math\n",
        "\n",
        "\n",
        "print(\"HELLo World!\")\n",
        "txt = input(\"Please, enter your name: \")\n",
        "d = len(txt)\n",
        "f = math.factorial(d)\n",
        "\n",
        "print(\"Your name has \", str(txt), \" letters. \", str(d), \"! = \", str(f))\n",
        "\n",
        "date = parser.parse(input(\"Please, enter your birth date in format (DD.MM.YYYY):\"))\n",
        "today = date.today()\n",
        "age = today.year - date.year - ((today.month, today.day) < (date.month, date.day))\n",
        "time = today - date\n",
        "print(\"Today is \", str(today.strftime('%d.%m.%y')), \", you are \", str(age), \" year (\", str(time.days), \" days) old.\")"
      ]
    }
  ]
}